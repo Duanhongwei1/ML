{
 "cells": [
  {
   "cell_type": "code",
   "execution_count": 49,
   "outputs": [],
   "source": [
    "import numpy as np\n",
    "from sklearn.svm import SVC\n",
    "from sklearn.model_selection import train_test_split\n",
    "from sklearn.metrics import accuracy_score\n",
    "from scipy.optimize import minimize\n",
    "\n",
    "class S3VM:\n",
    "    def __init__(self, C=1.0, max_iter=10):\n",
    "        self.C = C  # 惩罚系数\n",
    "        self.max_iter = max_iter  # 最大迭代次数\n",
    "        self.model = SVC(kernel='rbf', C=self.C)  # 使用线性核的SVM\n",
    "\n",
    "    def fit(self, X_labeled, y_labeled, X_unlabeled):\n",
    "        # 初始化：将无标签数据的标签设置为伪标签\n",
    "        y_unlabeled = np.random.choice(np.unique(y_labeled), len(X_unlabeled))  # 随机初始化伪标签\n",
    "\n",
    "        for iteration in range(self.max_iter):\n",
    "            # 使用有标签和伪标签数据进行训练\n",
    "            X_combined = np.vstack((X_labeled, X_unlabeled))\n",
    "            y_combined = np.hstack((y_labeled, y_unlabeled))\n",
    "\n",
    "            # 训练SVM\n",
    "            self.model.fit(X_combined, y_combined)\n",
    "\n",
    "            # 重新预测无标签数据的伪标签\n",
    "            y_unlabeled_new = self.model.predict(X_unlabeled)\n",
    "\n",
    "            # 检查伪标签是否收敛\n",
    "            if np.array_equal(y_unlabeled, y_unlabeled_new):\n",
    "                print(f\"伪标签在第 {iteration+1} 轮迭代中收敛\")\n",
    "                break\n",
    "\n",
    "            # 更新伪标签\n",
    "            y_unlabeled = y_unlabeled_new\n",
    "\n",
    "    def predict(self, X):\n",
    "        return self.model.predict(X)\n",
    "\n",
    "# 数据生成\n",
    "from sklearn.datasets import make_moons\n",
    "\n",
    "X, y = make_moons(n_samples=300, noise=0.2, random_state=42)\n",
    "\n",
    "# 将部分数据作为无标签数据\n",
    "X_labeled, X_unlabeled, y_labeled, _ = train_test_split(X, y, test_size=0.5,random_state=42)\n",
    "\n",
    "\n"
   ],
   "metadata": {
    "collapsed": false,
    "ExecuteTime": {
     "end_time": "2024-10-23T08:06:55.356409100Z",
     "start_time": "2024-10-23T08:06:55.348649300Z"
    }
   },
   "id": "9b97d71fc403bb99"
  },
  {
   "cell_type": "code",
   "execution_count": 50,
   "outputs": [
    {
     "name": "stdout",
     "output_type": "stream",
     "text": [
      "伪标签在第 4 轮迭代中收敛\n"
     ]
    }
   ],
   "source": [
    "# 训练半监督SVM\n",
    "s3vm = S3VM(C=1.0, max_iter=10)\n",
    "s3vm.fit(X_labeled, y_labeled, X_unlabeled)\n",
    "\n"
   ],
   "metadata": {
    "collapsed": false,
    "ExecuteTime": {
     "end_time": "2024-10-23T08:06:55.372151900Z",
     "start_time": "2024-10-23T08:06:55.355409100Z"
    }
   },
   "id": "9752da5fdb891478"
  },
  {
   "cell_type": "code",
   "execution_count": 51,
   "outputs": [
    {
     "name": "stdout",
     "output_type": "stream",
     "text": [
      "准确率: 0.9292\n"
     ]
    }
   ],
   "source": [
    "# 在测试集上评估模型\n",
    "X_test, _, y_test, _ = train_test_split(X, y, test_size=0.2)\n",
    "y_pred = s3vm.predict(X_test)\n",
    "print(f\"准确率: {accuracy_score(y_test, y_pred):.4f}\")"
   ],
   "metadata": {
    "collapsed": false,
    "ExecuteTime": {
     "end_time": "2024-10-23T08:06:55.380219700Z",
     "start_time": "2024-10-23T08:06:55.372151900Z"
    }
   },
   "id": "e9c3b8334f06c4cb"
  },
  {
   "cell_type": "code",
   "execution_count": 51,
   "outputs": [],
   "source": [],
   "metadata": {
    "collapsed": false,
    "ExecuteTime": {
     "end_time": "2024-10-23T08:06:55.380219700Z",
     "start_time": "2024-10-23T08:06:55.377705Z"
    }
   },
   "id": "8995e2d78483c637"
  }
 ],
 "metadata": {
  "kernelspec": {
   "display_name": "Python 3",
   "language": "python",
   "name": "python3"
  },
  "language_info": {
   "codemirror_mode": {
    "name": "ipython",
    "version": 2
   },
   "file_extension": ".py",
   "mimetype": "text/x-python",
   "name": "python",
   "nbconvert_exporter": "python",
   "pygments_lexer": "ipython2",
   "version": "2.7.6"
  }
 },
 "nbformat": 4,
 "nbformat_minor": 5
}
