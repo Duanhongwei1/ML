{
 "cells": [
  {
   "cell_type": "markdown",
   "source": [
    "# 基于分歧的半监督学习\n",
    "1.使用有标签数据训练多个模型(模型可以是不同的)\n",
    "2.使用每个模型去预测无标签的训练数据\n",
    "3.筛选出模型之间预测产生分歧的无标签样本\n",
    "4.采用某种策略为这些分歧样本分配标签，将这些伪标签加入训练集中，重新训练模型"
   ],
   "metadata": {
    "collapsed": false
   },
   "id": "1972aaddabf5276d"
  },
  {
   "cell_type": "code",
   "execution_count": 2,
   "id": "initial_id",
   "metadata": {
    "collapsed": true,
    "ExecuteTime": {
     "end_time": "2024-10-23T08:57:28.251571100Z",
     "start_time": "2024-10-23T08:57:27.668103200Z"
    }
   },
   "outputs": [],
   "source": [
    "from sklearn.model_selection import train_test_split\n",
    "from sklearn.svm import SVC\n",
    "from sklearn.ensemble import RandomForestClassifier\n",
    "from sklearn.metrics import accuracy_score"
   ]
  },
  {
   "cell_type": "code",
   "execution_count": 5,
   "outputs": [
    {
     "name": "stdout",
     "output_type": "stream",
     "text": [
      "有标签的数据:\n",
      "          0         1         2         3         4         5         6  \\\n",
      "0  1.242872 -2.846242  1.631471  0.616130  1.024352  3.776219  2.207521   \n",
      "2  0.995002  4.472860  0.396552 -0.774943 -0.539313  1.983609  1.571684   \n",
      "3 -6.064907 -0.861145 -0.663774  0.639216  1.399097  0.464887 -7.810023   \n",
      "4 -3.663457 -2.540896 -0.362081 -1.018162  1.939464 -1.736997 -2.255150   \n",
      "5  0.263550 -2.176242  1.606168 -1.508781 -0.672219  0.808489  6.028618   \n",
      "\n",
      "          7         8         9  ...        11        12        13        14  \\\n",
      "0 -4.202171  0.464731 -3.293098  ... -2.365571  1.826469  0.942230 -0.011058   \n",
      "2 -1.178277  1.175303  1.666403  ...  2.167063 -1.271422 -0.150584 -2.553335   \n",
      "3 -0.833776  1.906510  1.299077  ...  0.287488  0.340744  0.145996  0.116981   \n",
      "4  6.621085 -3.086259 -5.767685  ...  3.516086  2.774681  0.623417  0.288686   \n",
      "5 -2.314422 -2.085546  4.464265  ... -3.827730 -5.926362 -1.178996 -1.122092   \n",
      "\n",
      "         15        16        17         18        19  label  \n",
      "0 -3.312649 -3.227888  0.703651   4.432210 -0.429676      1  \n",
      "2  2.556613  0.109192 -2.650392  -0.891219  0.936507      1  \n",
      "3  3.652516  0.400101 -1.136077  -4.633471  0.620830      1  \n",
      "4  3.795548 -0.541960 -2.213839  -8.462932  0.789908      1  \n",
      "5 -4.764114 -5.184640  2.943339  13.724389  1.255678      0  \n",
      "\n",
      "[5 rows x 21 columns]\n",
      "\n",
      "无标签的数据:\n",
      "           0         1         2         3         4         5         6  \\\n",
      "1   4.910051 -0.803401 -1.785864 -1.706847 -0.070520 -2.213141 -0.034315   \n",
      "12 -0.021160 -0.285681 -1.111382 -3.665133 -1.148207  1.994931  1.473898   \n",
      "19 -2.899092 -1.207241  2.166570 -0.983351  0.142405 -2.397036  1.340725   \n",
      "21  0.225944  4.898600 -0.712557 -2.563946  0.354818  3.961081 -1.607425   \n",
      "25 -0.019685 -1.733307  4.090194  0.748492  0.441625  1.889898  1.701923   \n",
      "\n",
      "           7         8         9  ...        11        12        13        14  \\\n",
      "1   9.526943  3.740554 -6.521879  ...  0.685556 -5.243079 -0.352180  1.901790   \n",
      "12 -2.553749  1.334430 -2.866790  ... -4.008702 -0.923267  1.041913 -8.517900   \n",
      "19 -5.373035  3.877928 -0.745501  ...  1.542180  0.431114 -0.539727 -4.216128   \n",
      "21  2.413156 -1.385790  4.122663  ...  4.391173 -1.165648  0.946549  0.293886   \n",
      "25 -4.091930  1.134554 -5.577200  ... -1.933177 -0.573002 -0.524537  1.685243   \n",
      "\n",
      "          15        16        17         18        19  label  \n",
      "1  -0.846546  0.195492  5.229226   8.772250 -1.564854    NaN  \n",
      "12  2.425755 -2.136721  2.232155  12.390000  1.838755    NaN  \n",
      "19  1.362464  1.973210  2.428282  -4.339316 -0.502108    NaN  \n",
      "21 -0.607592  1.061857 -2.963340  -0.533217  0.590362    NaN  \n",
      "25 -0.708145 -1.695320 -1.213517  -2.105036 -1.254401    NaN  \n",
      "\n",
      "[5 rows x 21 columns]\n"
     ]
    }
   ],
   "source": [
    "from sklearn.datasets import make_classification\n",
    "import numpy as np\n",
    "import pandas as pd\n",
    "\n",
    "# 生成带有标签的数据集\n",
    "X, y = make_classification(n_samples=1000, n_features=20, n_informative=15, n_classes=2, random_state=42)\n",
    "\n",
    "# 将有标签的数据转换为DataFrame格式，方便操作\n",
    "df = pd.DataFrame(X)\n",
    "df['label'] = y\n",
    "\n",
    "# 随机选择一部分数据去掉标签，模拟无标签数据\n",
    "# 设定 80% 的数据有标签，20% 的数据无标签\n",
    "mask = np.random.rand(len(df)) < 0.8\n",
    "df_labeled = df[mask].copy()  # 有标签的数据\n",
    "df_unlabeled = df[~mask].copy()  # 无标签的数据\n",
    "\n",
    "# 对无标签数据集，将标签列设置为NaN\n",
    "df_unlabeled['label'] = np.nan\n",
    "\n",
    "# 输出结果\n",
    "print(\"有标签的数据:\")\n",
    "print(df_labeled.head())\n",
    "\n",
    "print(\"\\n无标签的数据:\")\n",
    "print(df_unlabeled.head())\n"
   ],
   "metadata": {
    "collapsed": false,
    "ExecuteTime": {
     "end_time": "2024-10-23T09:01:41.665200700Z",
     "start_time": "2024-10-23T09:01:41.648851800Z"
    }
   },
   "id": "58d08713929f43bb"
  },
  {
   "cell_type": "code",
   "execution_count": 7,
   "outputs": [],
   "source": [
    "X_labeled = df_labeled.iloc[:,:-1]\n",
    "X_unlabeled = df_unlabeled.iloc[:,:-1]\n",
    "y_labeled = df_labeled.iloc[:,-1]"
   ],
   "metadata": {
    "collapsed": false,
    "ExecuteTime": {
     "end_time": "2024-10-23T09:03:19.858970500Z",
     "start_time": "2024-10-23T09:03:19.855706900Z"
    }
   },
   "id": "279220b008c084a9"
  },
  {
   "cell_type": "code",
   "execution_count": 8,
   "outputs": [
    {
     "name": "stdout",
     "output_type": "stream",
     "text": [
      "Accuracy: 0.79375\n"
     ]
    }
   ],
   "source": [
    "# 假设有一部分有标签数据和无标签数据\n",
    "# 已知标签的数据和无标签数据\n",
    "X_train, X_test, y_train, y_test = train_test_split(X_labeled, y_labeled, test_size=0.2)\n",
    "\n",
    "# 定义多个模型\n",
    "model1 = SVC(probability=True)\n",
    "model2 = RandomForestClassifier()\n",
    "\n",
    "# 用有标签数据训练初始模型\n",
    "model1.fit(X_train, y_train)\n",
    "model2.fit(X_train, y_train)\n",
    "\n",
    "# 使用无标签数据生成伪标签\n",
    "for _ in range(10):  # 设置迭代次数\n",
    "    # 对无标签数据进行预测\n",
    "    preds_model1 = model1.predict(X_unlabeled)\n",
    "    preds_model2 = model2.predict(X_unlabeled)\n",
    "    \n",
    "    # 选择两者分歧大的样本进行标注\n",
    "    high_confidence_idx = (preds_model1 == preds_model2)\n",
    "    \n",
    "    # 将这些伪标签加入训练集中，并继续训练\n",
    "    model1.fit(X_unlabeled[high_confidence_idx], preds_model1[high_confidence_idx])\n",
    "    model2.fit(X_unlabeled[high_confidence_idx], preds_model2[high_confidence_idx])\n",
    "\n",
    "# 最终使用测试集评估性能\n",
    "final_preds = model1.predict(X_test)\n",
    "print(\"Accuracy:\", accuracy_score(y_test, final_preds))\n"
   ],
   "metadata": {
    "collapsed": false,
    "ExecuteTime": {
     "end_time": "2024-10-23T09:03:22.613649900Z",
     "start_time": "2024-10-23T09:03:21.277795400Z"
    }
   },
   "id": "67e3889b2c0fc747"
  },
  {
   "cell_type": "code",
   "execution_count": null,
   "outputs": [],
   "source": [],
   "metadata": {
    "collapsed": false
   },
   "id": "88dc95b84cd4fc88"
  }
 ],
 "metadata": {
  "kernelspec": {
   "display_name": "Python 3",
   "language": "python",
   "name": "python3"
  },
  "language_info": {
   "codemirror_mode": {
    "name": "ipython",
    "version": 2
   },
   "file_extension": ".py",
   "mimetype": "text/x-python",
   "name": "python",
   "nbconvert_exporter": "python",
   "pygments_lexer": "ipython2",
   "version": "2.7.6"
  }
 },
 "nbformat": 4,
 "nbformat_minor": 5
}
