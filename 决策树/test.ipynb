{
 "cells": [
  {
   "cell_type": "code",
   "execution_count": 1,
   "id": "initial_id",
   "metadata": {
    "collapsed": true,
    "ExecuteTime": {
     "end_time": "2024-09-29T09:38:42.102721200Z",
     "start_time": "2024-09-29T09:38:41.615213100Z"
    }
   },
   "outputs": [],
   "source": [
    "from ID3 import *\n",
    "df = pd.read_csv('example_data.csv')"
   ]
  },
  {
   "cell_type": "code",
   "execution_count": 4,
   "outputs": [],
   "source": [
    "id3_tree = ID3Tree(df,'play')\n",
    "id3_tree.construct_tree()\n"
   ],
   "metadata": {
    "collapsed": false,
    "ExecuteTime": {
     "end_time": "2024-09-29T10:12:58.759961Z",
     "start_time": "2024-09-29T10:11:31.359881600Z"
    }
   },
   "id": "4b1b2f55a9cce957"
  }
 ],
 "metadata": {
  "kernelspec": {
   "display_name": "Python 3",
   "language": "python",
   "name": "python3"
  },
  "language_info": {
   "codemirror_mode": {
    "name": "ipython",
    "version": 2
   },
   "file_extension": ".py",
   "mimetype": "text/x-python",
   "name": "python",
   "nbconvert_exporter": "python",
   "pygments_lexer": "ipython2",
   "version": "2.7.6"
  }
 },
 "nbformat": 4,
 "nbformat_minor": 5
}
