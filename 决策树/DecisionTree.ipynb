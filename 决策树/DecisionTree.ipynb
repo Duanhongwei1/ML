{
 "cells": [
  {
   "cell_type": "code",
   "execution_count": 1,
   "outputs": [],
   "source": [
    "import numpy\n",
    "from math import log\n",
    "\n",
    "#信息熵计算\n",
    "def entropy(ele):\n",
    "    '''输入:ele 包含类别取值的列表\n",
    "        输出:信息熵值'''\n",
    "\n",
    "    #计算列表中取值的概率分布\n",
    "    probs = [ele.count(i)/len(ele)for i in set(ele)]\n",
    "    #计算信息熵\n",
    "    entropy = -sum([prob*log(prob,2)for prob in probs])\n",
    "    return entropy\n",
    "\n"
   ],
   "metadata": {
    "collapsed": false,
    "ExecuteTime": {
     "end_time": "2024-09-29T02:00:00.445154800Z",
     "start_time": "2024-09-29T02:00:00.344870900Z"
    }
   },
   "id": "58a74ed2a9825ca4"
  },
  {
   "cell_type": "code",
   "execution_count": 2,
   "outputs": [
    {
     "data": {
      "text/plain": "   humility   outlook play  temp  windy\n0      high     sunny   no   hot  False\n1      high     sunny   no   hot   True\n2      high  overcast  yes   hot  False\n3      high     rainy  yes  mild  False\n4    normal     rainy  yes  cool  False\n5    normal     rainy   no  cool   True\n6    normal  overcast  yes  cool   True\n7      high     sunny   no  mild  False\n8    normal     sunny  yes  cool  False\n9    normal     rainy  yes  mild  False\n10   normal     sunny  yes  mild   True\n11     high  overcast  yes  mild   True\n12   normal  overcast  yes   hot  False\n13     high     rainy   no  mild   True",
      "text/html": "<div>\n<style scoped>\n    .dataframe tbody tr th:only-of-type {\n        vertical-align: middle;\n    }\n\n    .dataframe tbody tr th {\n        vertical-align: top;\n    }\n\n    .dataframe thead th {\n        text-align: right;\n    }\n</style>\n<table border=\"1\" class=\"dataframe\">\n  <thead>\n    <tr style=\"text-align: right;\">\n      <th></th>\n      <th>humility</th>\n      <th>outlook</th>\n      <th>play</th>\n      <th>temp</th>\n      <th>windy</th>\n    </tr>\n  </thead>\n  <tbody>\n    <tr>\n      <th>0</th>\n      <td>high</td>\n      <td>sunny</td>\n      <td>no</td>\n      <td>hot</td>\n      <td>False</td>\n    </tr>\n    <tr>\n      <th>1</th>\n      <td>high</td>\n      <td>sunny</td>\n      <td>no</td>\n      <td>hot</td>\n      <td>True</td>\n    </tr>\n    <tr>\n      <th>2</th>\n      <td>high</td>\n      <td>overcast</td>\n      <td>yes</td>\n      <td>hot</td>\n      <td>False</td>\n    </tr>\n    <tr>\n      <th>3</th>\n      <td>high</td>\n      <td>rainy</td>\n      <td>yes</td>\n      <td>mild</td>\n      <td>False</td>\n    </tr>\n    <tr>\n      <th>4</th>\n      <td>normal</td>\n      <td>rainy</td>\n      <td>yes</td>\n      <td>cool</td>\n      <td>False</td>\n    </tr>\n    <tr>\n      <th>5</th>\n      <td>normal</td>\n      <td>rainy</td>\n      <td>no</td>\n      <td>cool</td>\n      <td>True</td>\n    </tr>\n    <tr>\n      <th>6</th>\n      <td>normal</td>\n      <td>overcast</td>\n      <td>yes</td>\n      <td>cool</td>\n      <td>True</td>\n    </tr>\n    <tr>\n      <th>7</th>\n      <td>high</td>\n      <td>sunny</td>\n      <td>no</td>\n      <td>mild</td>\n      <td>False</td>\n    </tr>\n    <tr>\n      <th>8</th>\n      <td>normal</td>\n      <td>sunny</td>\n      <td>yes</td>\n      <td>cool</td>\n      <td>False</td>\n    </tr>\n    <tr>\n      <th>9</th>\n      <td>normal</td>\n      <td>rainy</td>\n      <td>yes</td>\n      <td>mild</td>\n      <td>False</td>\n    </tr>\n    <tr>\n      <th>10</th>\n      <td>normal</td>\n      <td>sunny</td>\n      <td>yes</td>\n      <td>mild</td>\n      <td>True</td>\n    </tr>\n    <tr>\n      <th>11</th>\n      <td>high</td>\n      <td>overcast</td>\n      <td>yes</td>\n      <td>mild</td>\n      <td>True</td>\n    </tr>\n    <tr>\n      <th>12</th>\n      <td>normal</td>\n      <td>overcast</td>\n      <td>yes</td>\n      <td>hot</td>\n      <td>False</td>\n    </tr>\n    <tr>\n      <th>13</th>\n      <td>high</td>\n      <td>rainy</td>\n      <td>no</td>\n      <td>mild</td>\n      <td>True</td>\n    </tr>\n  </tbody>\n</table>\n</div>"
     },
     "execution_count": 2,
     "metadata": {},
     "output_type": "execute_result"
    }
   ],
   "source": [
    "#信息增益计算\n",
    "import pandas as pd\n",
    "df = pd.read_csv('../Machine_Learning_Code/charpter7_decision_tree/example_data.csv')\n",
    "df"
   ],
   "metadata": {
    "collapsed": false,
    "ExecuteTime": {
     "end_time": "2024-09-29T02:00:00.901979700Z",
     "start_time": "2024-09-29T02:00:00.446154900Z"
    }
   },
   "id": "ba8bd623184e7a8a"
  },
  {
   "cell_type": "code",
   "execution_count": 3,
   "outputs": [
    {
     "name": "stdout",
     "output_type": "stream",
     "text": [
      "天气特征对于数据集分类的信息增益为: 0.2467498197744391\n"
     ]
    }
   ],
   "source": [
    "#计算数据集的信息熵，以'play'为目标变量\n",
    "entropy_D = entropy(df['play'].tolist())\n",
    "#计算天气特征的经验条件熵\n",
    "subset1 = df[df['outlook']=='sunny']\n",
    "subset2 = df[df['outlook']=='overcast']\n",
    "subset3 = df[df['outlook']=='rainy']\n",
    "# E(是否打高尔夫|天气)=p(晴)*E(是否打高尔夫|晴天)+p(阴天)*E(是否打高尔夫|阴天)+p(雨天)*E(是否打高尔夫|雨天)\n",
    "entropy_DA = len(subset1)/len(df)*entropy(subset1['play'].tolist()) + len(subset2)/len(df)*entropy(subset2['play'].tolist()) + len(subset3)/len(df)*entropy(subset3['play'].tolist())   \n",
    "\n",
    "#计算天气特征的信息增益\n",
    "gain_A = entropy_D - entropy_DA\n",
    "print('天气特征对于数据集分类的信息增益为:',gain_A)"
   ],
   "metadata": {
    "collapsed": false,
    "ExecuteTime": {
     "end_time": "2024-09-29T02:00:00.910845Z",
     "start_time": "2024-09-29T02:00:00.897981500Z"
    }
   },
   "id": "810b585a2b2dd212"
  },
  {
   "cell_type": "code",
   "execution_count": 4,
   "outputs": [],
   "source": [
    "#定义基尼指数计算函数\n",
    "def gini(nums):\n",
    "    '''nums:输入 包含类别取值的列表'''\n",
    "    probs = [nums.count(i)/len(nums) for i in set(nums)]\n",
    "    \n",
    "    #计算基尼指数\n",
    "    gini = sum([p*(1-p)for p in probs])\n",
    "    return gini"
   ],
   "metadata": {
    "collapsed": false,
    "ExecuteTime": {
     "end_time": "2024-09-29T02:00:00.917898400Z",
     "start_time": "2024-09-29T02:00:00.910845Z"
    }
   },
   "id": "7a34c54c046fb28d"
  },
  {
   "cell_type": "code",
   "execution_count": 8,
   "outputs": [
    {
     "data": {
      "text/plain": "   humility outlook play  temp  windy\n0      high   sunny   no   hot  False\n1      high   sunny   no   hot   True\n7      high   sunny   no  mild  False\n8    normal   sunny  yes  cool  False\n10   normal   sunny  yes  mild   True",
      "text/html": "<div>\n<style scoped>\n    .dataframe tbody tr th:only-of-type {\n        vertical-align: middle;\n    }\n\n    .dataframe tbody tr th {\n        vertical-align: top;\n    }\n\n    .dataframe thead th {\n        text-align: right;\n    }\n</style>\n<table border=\"1\" class=\"dataframe\">\n  <thead>\n    <tr style=\"text-align: right;\">\n      <th></th>\n      <th>humility</th>\n      <th>outlook</th>\n      <th>play</th>\n      <th>temp</th>\n      <th>windy</th>\n    </tr>\n  </thead>\n  <tbody>\n    <tr>\n      <th>0</th>\n      <td>high</td>\n      <td>sunny</td>\n      <td>no</td>\n      <td>hot</td>\n      <td>False</td>\n    </tr>\n    <tr>\n      <th>1</th>\n      <td>high</td>\n      <td>sunny</td>\n      <td>no</td>\n      <td>hot</td>\n      <td>True</td>\n    </tr>\n    <tr>\n      <th>7</th>\n      <td>high</td>\n      <td>sunny</td>\n      <td>no</td>\n      <td>mild</td>\n      <td>False</td>\n    </tr>\n    <tr>\n      <th>8</th>\n      <td>normal</td>\n      <td>sunny</td>\n      <td>yes</td>\n      <td>cool</td>\n      <td>False</td>\n    </tr>\n    <tr>\n      <th>10</th>\n      <td>normal</td>\n      <td>sunny</td>\n      <td>yes</td>\n      <td>mild</td>\n      <td>True</td>\n    </tr>\n  </tbody>\n</table>\n</div>"
     },
     "execution_count": 8,
     "metadata": {},
     "output_type": "execute_result"
    }
   ],
   "source": [
    "#计算天气特征的基尼指数\n",
    "#将天气划分为晴和非晴  subset1 ,subset2\n",
    "subset1 = df[df['outlook']=='sunny']\n",
    "subset2 = df[df['outlook']!='sunny']\n",
    "subset1\n"
   ],
   "metadata": {
    "collapsed": false,
    "ExecuteTime": {
     "end_time": "2024-09-29T02:00:42.187587200Z",
     "start_time": "2024-09-29T02:00:42.170286100Z"
    }
   },
   "id": "470e1cd5a1e001e8"
  },
  {
   "cell_type": "code",
   "execution_count": 22,
   "outputs": [
    {
     "data": {
      "text/plain": "0.3936507936507937"
     },
     "execution_count": 22,
     "metadata": {},
     "output_type": "execute_result"
    }
   ],
   "source": [
    "#计算晴天特征的基尼指数\n",
    "gini_DA = len(subset1)/len(df)*gini(subset1['play'].tolist()) + len(subset2)/len(df)*gini(subset2['play'].tolist())  #需要转化为list\n",
    "gini_DA"
   ],
   "metadata": {
    "collapsed": false,
    "ExecuteTime": {
     "end_time": "2024-09-29T02:10:21.154896700Z",
     "start_time": "2024-09-29T02:10:21.146414700Z"
    }
   },
   "id": "bac5a107175ddbd8"
  },
  {
   "cell_type": "code",
   "execution_count": null,
   "outputs": [],
   "source": [],
   "metadata": {
    "collapsed": false
   },
   "id": "b361659e7c207873"
  }
 ],
 "metadata": {
  "kernelspec": {
   "display_name": "Python 3",
   "language": "python",
   "name": "python3"
  },
  "language_info": {
   "codemirror_mode": {
    "name": "ipython",
    "version": 2
   },
   "file_extension": ".py",
   "mimetype": "text/x-python",
   "name": "python",
   "nbconvert_exporter": "python",
   "pygments_lexer": "ipython2",
   "version": "2.7.6"
  }
 },
 "nbformat": 4,
 "nbformat_minor": 5
}
