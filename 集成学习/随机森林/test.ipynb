{
 "cells": [
  {
   "cell_type": "code",
   "execution_count": 16,
   "id": "initial_id",
   "metadata": {
    "collapsed": true,
    "ExecuteTime": {
     "end_time": "2024-10-13T08:42:31.865553Z",
     "start_time": "2024-10-13T08:42:31.861215300Z"
    }
   },
   "outputs": [],
   "source": [
    "import RandomForest\n",
    "import numpy as np\n",
    "from sklearn.metrics import accuracy_score\n",
    "from sklearn.datasets import make_classification\n",
    "from sklearn.model_selection import train_test_split\n",
    "\n",
    "X,y = make_classification(n_samples=1000,n_features=20,n_redundant=0,n_informative=2,random_state=1,n_clusters_per_class=1)\n"
   ]
  },
  {
   "cell_type": "code",
   "execution_count": 17,
   "outputs": [],
   "source": [
    "rng = np.random.RandomState(2)\n",
    "X += 2*rng.uniform(size=X.shape)"
   ],
   "metadata": {
    "collapsed": false,
    "ExecuteTime": {
     "end_time": "2024-10-13T08:42:31.884643200Z",
     "start_time": "2024-10-13T08:42:31.869557900Z"
    }
   },
   "id": "ca41ab14de308c91"
  },
  {
   "cell_type": "code",
   "execution_count": 18,
   "outputs": [],
   "source": [
    "X_train, X_test, y_train, y_test = train_test_split(X,y,test_size=0.3)"
   ],
   "metadata": {
    "collapsed": false,
    "ExecuteTime": {
     "end_time": "2024-10-13T08:42:31.898806800Z",
     "start_time": "2024-10-13T08:42:31.878373Z"
    }
   },
   "id": "add0bce25896759f"
  },
  {
   "cell_type": "code",
   "execution_count": 19,
   "outputs": [],
   "source": [
    "rf = RandomForest.RandomForest(n_estimators=10,max_features=15)"
   ],
   "metadata": {
    "collapsed": false,
    "ExecuteTime": {
     "end_time": "2024-10-13T08:42:31.899806700Z",
     "start_time": "2024-10-13T08:42:31.887644300Z"
    }
   },
   "id": "7e101da017cd492d"
  },
  {
   "cell_type": "code",
   "execution_count": 20,
   "outputs": [
    {
     "name": "stdout",
     "output_type": "stream",
     "text": [
      "The 1th tree is trained done...\n",
      "The 2th tree is trained done...\n",
      "The 3th tree is trained done...\n",
      "The 4th tree is trained done...\n",
      "The 5th tree is trained done...\n",
      "The 6th tree is trained done...\n",
      "The 7th tree is trained done...\n",
      "The 8th tree is trained done...\n",
      "The 9th tree is trained done...\n",
      "The 10th tree is trained done...\n"
     ]
    }
   ],
   "source": [
    "rf.fit(X_train,y_train)"
   ],
   "metadata": {
    "collapsed": false,
    "ExecuteTime": {
     "end_time": "2024-10-13T08:48:24.324027Z",
     "start_time": "2024-10-13T08:42:31.895806800Z"
    }
   },
   "id": "dafffdf3d994b36a"
  },
  {
   "cell_type": "code",
   "execution_count": 21,
   "outputs": [
    {
     "name": "stdout",
     "output_type": "stream",
     "text": [
      "The accuracy: 0.49666666666666665\n"
     ]
    }
   ],
   "source": [
    "y_pred = rf.predict(X_test)\n",
    "acc = accuracy_score(y_test,y_pred)\n",
    "print('The accuracy:',acc)"
   ],
   "metadata": {
    "collapsed": false,
    "ExecuteTime": {
     "end_time": "2024-10-13T08:48:24.332720800Z",
     "start_time": "2024-10-13T08:48:24.324027Z"
    }
   },
   "id": "adf9e895a12f13d6"
  }
 ],
 "metadata": {
  "kernelspec": {
   "display_name": "Python 3",
   "language": "python",
   "name": "python3"
  },
  "language_info": {
   "codemirror_mode": {
    "name": "ipython",
    "version": 2
   },
   "file_extension": ".py",
   "mimetype": "text/x-python",
   "name": "python",
   "nbconvert_exporter": "python",
   "pygments_lexer": "ipython2",
   "version": "2.7.6"
  }
 },
 "nbformat": 4,
 "nbformat_minor": 5
}
