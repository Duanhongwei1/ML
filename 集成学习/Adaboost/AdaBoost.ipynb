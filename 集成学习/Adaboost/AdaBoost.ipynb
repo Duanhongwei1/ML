{
 "cells": [
  {
   "cell_type": "code",
   "execution_count": 1,
   "id": "initial_id",
   "metadata": {
    "collapsed": true,
    "ExecuteTime": {
     "end_time": "2024-10-13T03:20:18.401063500Z",
     "start_time": "2024-10-13T03:20:17.857481600Z"
    }
   },
   "outputs": [],
   "source": [
    "import AdaBoost\n",
    "from sklearn.model_selection import train_test_split\n",
    "from sklearn.datasets._samples_generator import make_blobs\n",
    "from sklearn.metrics import accuracy_score"
   ]
  },
  {
   "cell_type": "code",
   "execution_count": 2,
   "outputs": [],
   "source": [
    "X,y = make_blobs(n_samples=150,n_features=2,centers=2,cluster_std=1.2,random_state=40)\n",
    "y_ = y.copy()\n",
    "y_[y_==0] = -1\n",
    "y_ = y_.astype(float)\n"
   ],
   "metadata": {
    "collapsed": false,
    "ExecuteTime": {
     "end_time": "2024-10-13T03:20:18.407275600Z",
     "start_time": "2024-10-13T03:20:18.403064600Z"
    }
   },
   "id": "c16719f2da6bf56c"
  },
  {
   "cell_type": "code",
   "execution_count": 3,
   "outputs": [],
   "source": [
    "X_train,X_test,y_train,y_test = train_test_split(X,y_,test_size=0.3,random_state=43)"
   ],
   "metadata": {
    "collapsed": false,
    "ExecuteTime": {
     "end_time": "2024-10-13T03:20:18.415119100Z",
     "start_time": "2024-10-13T03:20:18.408276300Z"
    }
   },
   "id": "45ddb66c970d6e29"
  },
  {
   "cell_type": "code",
   "execution_count": 4,
   "outputs": [],
   "source": [
    "clf = AdaBoost.Adaboost(n_estimators=5)\n",
    "clf.fit(X_train,y_train)"
   ],
   "metadata": {
    "collapsed": false,
    "ExecuteTime": {
     "end_time": "2024-10-13T03:20:18.435400600Z",
     "start_time": "2024-10-13T03:20:18.416118400Z"
    }
   },
   "id": "903a4f2cf1465c37"
  },
  {
   "cell_type": "code",
   "execution_count": 5,
   "outputs": [
    {
     "name": "stdout",
     "output_type": "stream",
     "text": [
      "0.9777777777777777\n"
     ]
    }
   ],
   "source": [
    "y_pred = clf.predict(X_test)\n",
    "accuracy = accuracy_score(y_test,y_pred)\n",
    "print(accuracy)"
   ],
   "metadata": {
    "collapsed": false,
    "ExecuteTime": {
     "end_time": "2024-10-13T03:20:18.441395400Z",
     "start_time": "2024-10-13T03:20:18.433400400Z"
    }
   },
   "id": "c2f6d3bf016a478c"
  },
  {
   "cell_type": "code",
   "execution_count": 5,
   "outputs": [],
   "source": [],
   "metadata": {
    "collapsed": false,
    "ExecuteTime": {
     "end_time": "2024-10-13T03:20:18.441395400Z",
     "start_time": "2024-10-13T03:20:18.438635Z"
    }
   },
   "id": "5cbdff32ee07e171"
  }
 ],
 "metadata": {
  "kernelspec": {
   "display_name": "Python 3",
   "language": "python",
   "name": "python3"
  },
  "language_info": {
   "codemirror_mode": {
    "name": "ipython",
    "version": 2
   },
   "file_extension": ".py",
   "mimetype": "text/x-python",
   "name": "python",
   "nbconvert_exporter": "python",
   "pygments_lexer": "ipython2",
   "version": "2.7.6"
  }
 },
 "nbformat": 4,
 "nbformat_minor": 5
}
