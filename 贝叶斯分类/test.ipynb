{
 "cells": [
  {
   "cell_type": "code",
   "execution_count": 4,
   "id": "initial_id",
   "metadata": {
    "collapsed": true,
    "ExecuteTime": {
     "end_time": "2024-10-10T09:56:33.582285400Z",
     "start_time": "2024-10-10T09:56:33.574264500Z"
    }
   },
   "outputs": [
    {
     "data": {
      "text/plain": "     weather temperature humidity  windy play\n0      sunny         hot     high  false   no\n1      sunny         hot     high   true   no\n2   overcast         hot     high  false  yes\n3       rain        mild     high  false  yes\n4       rain        cool   normal  false  yes\n5       rain        cool   normal   true   no\n6   overcast        cool   normal   true  yes\n7      sunny        mild     high  false   no\n8      sunny        cool   normal  false  yes\n9       rain        mild   normal  false  yes\n10     sunny        mild   normal   true  yes\n11  overcast        mild     high   true  yes\n12  overcast         hot   normal  false  yes\n13      rain        mild     high   true   no",
      "text/html": "<div>\n<style scoped>\n    .dataframe tbody tr th:only-of-type {\n        vertical-align: middle;\n    }\n\n    .dataframe tbody tr th {\n        vertical-align: top;\n    }\n\n    .dataframe thead th {\n        text-align: right;\n    }\n</style>\n<table border=\"1\" class=\"dataframe\">\n  <thead>\n    <tr style=\"text-align: right;\">\n      <th></th>\n      <th>weather</th>\n      <th>temperature</th>\n      <th>humidity</th>\n      <th>windy</th>\n      <th>play</th>\n    </tr>\n  </thead>\n  <tbody>\n    <tr>\n      <th>0</th>\n      <td>sunny</td>\n      <td>hot</td>\n      <td>high</td>\n      <td>false</td>\n      <td>no</td>\n    </tr>\n    <tr>\n      <th>1</th>\n      <td>sunny</td>\n      <td>hot</td>\n      <td>high</td>\n      <td>true</td>\n      <td>no</td>\n    </tr>\n    <tr>\n      <th>2</th>\n      <td>overcast</td>\n      <td>hot</td>\n      <td>high</td>\n      <td>false</td>\n      <td>yes</td>\n    </tr>\n    <tr>\n      <th>3</th>\n      <td>rain</td>\n      <td>mild</td>\n      <td>high</td>\n      <td>false</td>\n      <td>yes</td>\n    </tr>\n    <tr>\n      <th>4</th>\n      <td>rain</td>\n      <td>cool</td>\n      <td>normal</td>\n      <td>false</td>\n      <td>yes</td>\n    </tr>\n    <tr>\n      <th>5</th>\n      <td>rain</td>\n      <td>cool</td>\n      <td>normal</td>\n      <td>true</td>\n      <td>no</td>\n    </tr>\n    <tr>\n      <th>6</th>\n      <td>overcast</td>\n      <td>cool</td>\n      <td>normal</td>\n      <td>true</td>\n      <td>yes</td>\n    </tr>\n    <tr>\n      <th>7</th>\n      <td>sunny</td>\n      <td>mild</td>\n      <td>high</td>\n      <td>false</td>\n      <td>no</td>\n    </tr>\n    <tr>\n      <th>8</th>\n      <td>sunny</td>\n      <td>cool</td>\n      <td>normal</td>\n      <td>false</td>\n      <td>yes</td>\n    </tr>\n    <tr>\n      <th>9</th>\n      <td>rain</td>\n      <td>mild</td>\n      <td>normal</td>\n      <td>false</td>\n      <td>yes</td>\n    </tr>\n    <tr>\n      <th>10</th>\n      <td>sunny</td>\n      <td>mild</td>\n      <td>normal</td>\n      <td>true</td>\n      <td>yes</td>\n    </tr>\n    <tr>\n      <th>11</th>\n      <td>overcast</td>\n      <td>mild</td>\n      <td>high</td>\n      <td>true</td>\n      <td>yes</td>\n    </tr>\n    <tr>\n      <th>12</th>\n      <td>overcast</td>\n      <td>hot</td>\n      <td>normal</td>\n      <td>false</td>\n      <td>yes</td>\n    </tr>\n    <tr>\n      <th>13</th>\n      <td>rain</td>\n      <td>mild</td>\n      <td>high</td>\n      <td>true</td>\n      <td>no</td>\n    </tr>\n  </tbody>\n</table>\n</div>"
     },
     "execution_count": 4,
     "metadata": {},
     "output_type": "execute_result"
    }
   ],
   "source": [
    "import numpy as np\n",
    "import pandas as pd\n",
    "import 朴素贝叶斯 as NB\n",
    "# 创建简单的数据集\n",
    "data = {\n",
    "    'weather': ['sunny', 'sunny', 'overcast', 'rain', 'rain', 'rain', 'overcast', 'sunny', 'sunny', 'rain', 'sunny', 'overcast', 'overcast', 'rain'],\n",
    "    'temperature': ['hot', 'hot', 'hot', 'mild', 'cool', 'cool', 'cool', 'mild', 'cool', 'mild', 'mild', 'mild', 'hot', 'mild'],\n",
    "    'humidity': ['high', 'high', 'high', 'high', 'normal', 'normal', 'normal', 'high', 'normal', 'normal', 'normal', 'high', 'normal', 'high'],\n",
    "    'windy': ['false', 'true', 'false', 'false', 'false', 'true', 'true', 'false', 'false', 'false', 'true', 'true', 'false', 'true'],\n",
    "    'play': ['no', 'no', 'yes', 'yes', 'yes', 'no', 'yes', 'no', 'yes', 'yes', 'yes', 'yes', 'yes', 'no']\n",
    "}\n",
    "\n",
    "# 将数据转换为DataFrame\n",
    "df = pd.DataFrame(data)\n",
    "df"
   ]
  },
  {
   "cell_type": "code",
   "execution_count": 5,
   "outputs": [],
   "source": [
    "# 选择特征和标签\n",
    "X = df.iloc[:,:-1]\n",
    "y = df.iloc[:,-1]"
   ],
   "metadata": {
    "collapsed": false,
    "ExecuteTime": {
     "end_time": "2024-10-10T09:56:33.607877500Z",
     "start_time": "2024-10-10T09:56:33.583285400Z"
    }
   },
   "id": "44dd7d74a558cc18"
  },
  {
   "cell_type": "code",
   "execution_count": 10,
   "outputs": [
    {
     "name": "stdout",
     "output_type": "stream",
     "text": [
      "Predictions: ['yes', 'yes']\n"
     ]
    }
   ],
   "source": [
    "# 创建朴素贝叶斯模型实例\n",
    "nb = NB.NaiveBayes()\n",
    "nb.fit(X, y)\n",
    "\n",
    "# 测试样本\n",
    "test_data = pd.DataFrame({\n",
    "    'weather': ['sunny', 'rain'],\n",
    "    'temperature': ['cool', 'mild'],\n",
    "    'humidity': ['normal', 'high'],\n",
    "    'windy': ['true', 'false']\n",
    "})\n",
    "\n",
    "# 预测\n",
    "predictions = nb.predict(test_data)\n",
    "print('Predictions:', predictions)"
   ],
   "metadata": {
    "collapsed": false,
    "ExecuteTime": {
     "end_time": "2024-10-10T10:01:02.351982900Z",
     "start_time": "2024-10-10T09:57:09.183741700Z"
    }
   },
   "id": "d1c6c910e4839ca1"
  },
  {
   "cell_type": "code",
   "execution_count": 7,
   "outputs": [],
   "source": [],
   "metadata": {
    "collapsed": false,
    "ExecuteTime": {
     "end_time": "2024-10-10T09:56:40.837511Z",
     "start_time": "2024-10-10T09:56:40.829367400Z"
    }
   },
   "id": "562e6ee4b0c73ba4"
  }
 ],
 "metadata": {
  "kernelspec": {
   "display_name": "Python 3",
   "language": "python",
   "name": "python3"
  },
  "language_info": {
   "codemirror_mode": {
    "name": "ipython",
    "version": 2
   },
   "file_extension": ".py",
   "mimetype": "text/x-python",
   "name": "python",
   "nbconvert_exporter": "python",
   "pygments_lexer": "ipython2",
   "version": "2.7.6"
  }
 },
 "nbformat": 4,
 "nbformat_minor": 5
}
