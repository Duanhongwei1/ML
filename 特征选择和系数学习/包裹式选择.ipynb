{
 "cells": [
  {
   "cell_type": "code",
   "execution_count": 118,
   "id": "initial_id",
   "metadata": {
    "collapsed": true,
    "ExecuteTime": {
     "end_time": "2024-10-15T12:18:52.701727900Z",
     "start_time": "2024-10-15T12:18:52.693929400Z"
    }
   },
   "outputs": [],
   "source": [
    "import numpy as np\n",
    "from sklearn.tree import DecisionTreeClassifier\n",
    "from sklearn.model_selection import cross_val_score"
   ]
  },
  {
   "cell_type": "code",
   "execution_count": 119,
   "outputs": [],
   "source": [
    "class LasVegasWrapper:\n",
    "    def __init__(self,estimator,n_iter=100,max_features=None):\n",
    "        self.estimator = estimator\n",
    "        self.n_iter = n_iter\n",
    "        self.max_features = max_features\n",
    "        \n",
    "    def fit(self,X,y):\n",
    "        n_samples, n_features = X.shape\n",
    "        if self.max_features is None:\n",
    "            self.max_features = n_features\n",
    "        best_score = 0\n",
    "        best_features = None\n",
    "        for _ in range(self.n_iter):\n",
    "            subset = np.random.choice(n_features,self.max_features,replace=False)\n",
    "            X_subset = X[:,subset]\n",
    "            scores = cross_val_score(self.estimator,X_subset,y,cv=5)\n",
    "            score = np.mean(scores)\n",
    "            if score > best_score:\n",
    "                best_score = score\n",
    "                best_features = subset\n",
    "        self.best_score = best_score\n",
    "        self.best_subset = best_features\n",
    "        \n",
    "    def transform(self,X):\n",
    "        return X[:,self.best_subset]"
   ],
   "metadata": {
    "collapsed": false,
    "ExecuteTime": {
     "end_time": "2024-10-15T12:18:52.706759200Z",
     "start_time": "2024-10-15T12:18:52.698723700Z"
    }
   },
   "id": "5b0b37388a00b34b"
  },
  {
   "cell_type": "code",
   "execution_count": 2,
   "outputs": [],
   "source": [
    "from sklearn.datasets import load_iris\n",
    "from sklearn.model_selection import train_test_split\n"
   ],
   "metadata": {
    "collapsed": false,
    "ExecuteTime": {
     "end_time": "2024-10-18T02:37:06.060105200Z",
     "start_time": "2024-10-18T02:37:05.983368200Z"
    }
   },
   "id": "6c1a0face6061b2"
  },
  {
   "cell_type": "code",
   "execution_count": 3,
   "outputs": [],
   "source": [
    "data = load_iris()\n",
    "X,y = data.data,data.target\n",
    "X_train,X_test,y_train,y_test = train_test_split(X,y,test_size=0.2,random_state=42)"
   ],
   "metadata": {
    "collapsed": false,
    "ExecuteTime": {
     "end_time": "2024-10-18T02:37:08.188203900Z",
     "start_time": "2024-10-18T02:37:08.169032500Z"
    }
   },
   "id": "c772c9de29d48a0d"
  },
  {
   "cell_type": "code",
   "execution_count": 122,
   "outputs": [],
   "source": [
    "estimator = DecisionTreeClassifier()\n",
    "lv_wrapper = LasVegasWrapper(estimator,n_iter=50,max_features=4)\n",
    "lv_wrapper.fit(X_train,y_train)\n"
   ],
   "metadata": {
    "collapsed": false,
    "ExecuteTime": {
     "end_time": "2024-10-15T12:18:52.945150700Z",
     "start_time": "2024-10-15T12:18:52.726828600Z"
    }
   },
   "id": "a7144d6ed80fdbe1"
  },
  {
   "cell_type": "code",
   "execution_count": 123,
   "outputs": [
    {
     "name": "stdout",
     "output_type": "stream",
     "text": [
      "测试集评分： 1.0\n",
      "最优特征子集索引： [0 3 2 1]\n"
     ]
    }
   ],
   "source": [
    "X_train_best = lv_wrapper.transform(X_train)\n",
    "X_test_best = lv_wrapper.transform(X_test)\n",
    "estimator.fit(X_train_best,y_train)\n",
    "print(\"测试集评分：\", estimator.score(X_test_best, y_test))\n",
    "print(\"最优特征子集索引：\", lv_wrapper.best_subset)"
   ],
   "metadata": {
    "collapsed": false,
    "ExecuteTime": {
     "end_time": "2024-10-15T12:18:52.950499Z",
     "start_time": "2024-10-15T12:18:52.946150200Z"
    }
   },
   "id": "d18c975a9ee743af"
  },
  {
   "cell_type": "code",
   "execution_count": 4,
   "outputs": [
    {
     "name": "stdout",
     "output_type": "stream",
     "text": [
      "[ True  True  True  True]\n"
     ]
    },
    {
     "name": "stderr",
     "output_type": "stream",
     "text": [
      "C:\\ProgramData\\anaconda3\\Lib\\site-packages\\sklearn\\linear_model\\_logistic.py:469: ConvergenceWarning: lbfgs failed to converge (status=1):\n",
      "STOP: TOTAL NO. of ITERATIONS REACHED LIMIT.\n",
      "\n",
      "Increase the number of iterations (max_iter) or scale the data as shown in:\n",
      "    https://scikit-learn.org/stable/modules/preprocessing.html\n",
      "Please also refer to the documentation for alternative solver options:\n",
      "    https://scikit-learn.org/stable/modules/linear_model.html#logistic-regression\n",
      "  n_iter_i = _check_optimize_result(\n"
     ]
    }
   ],
   "source": [
    "from sklearn.feature_selection import RFE\n",
    "from sklearn.linear_model import LogisticRegression\n",
    "\n",
    "# 初始化逻辑回归模型\n",
    "model = LogisticRegression()\n",
    "\n",
    "# 使用递归特征消除法选择前5个最佳特征\n",
    "rfe = RFE(estimator=model, n_features_to_select=5)\n",
    "X_rfe = rfe.fit_transform(X, y)\n",
    "\n",
    "# 打印所选择的特征\n",
    "print(rfe.support_)\n"
   ],
   "metadata": {
    "collapsed": false,
    "ExecuteTime": {
     "end_time": "2024-10-18T02:37:11.136064700Z",
     "start_time": "2024-10-18T02:37:11.097574600Z"
    }
   },
   "id": "166cb5231ab8893b"
  },
  {
   "cell_type": "code",
   "execution_count": null,
   "outputs": [],
   "source": [],
   "metadata": {
    "collapsed": false
   },
   "id": "6f8782c328108bdd"
  }
 ],
 "metadata": {
  "kernelspec": {
   "display_name": "Python 3",
   "language": "python",
   "name": "python3"
  },
  "language_info": {
   "codemirror_mode": {
    "name": "ipython",
    "version": 2
   },
   "file_extension": ".py",
   "mimetype": "text/x-python",
   "name": "python",
   "nbconvert_exporter": "python",
   "pygments_lexer": "ipython2",
   "version": "2.7.6"
  }
 },
 "nbformat": 4,
 "nbformat_minor": 5
}
