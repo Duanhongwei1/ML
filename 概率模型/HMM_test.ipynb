{
 "cells": [
  {
   "cell_type": "code",
   "execution_count": 1,
   "id": "initial_id",
   "metadata": {
    "collapsed": true,
    "ExecuteTime": {
     "end_time": "2024-10-25T09:22:44.442612200Z",
     "start_time": "2024-10-25T09:22:44.351345400Z"
    }
   },
   "outputs": [],
   "source": [
    "from HMM_utils import *\n",
    "import numpy as np"
   ]
  },
  {
   "cell_type": "code",
   "execution_count": 2,
   "outputs": [],
   "source": [
    "#初始化状态概率分布\n",
    "pi = np.array([0.25,0.25,0.25,0.25])\n",
    "#状态转移概率矩阵\n",
    "A = np.array([\n",
    "    [0,1,0,0],\n",
    "    [0.4,0,0.6,0],\n",
    "    [0,0.4,0,0.6],\n",
    "    [0,0,0.5,0.5]\n",
    "])\n",
    "#观测矩阵\n",
    "B = np.array([\n",
    "    [0.5,0.5],\n",
    "    [0.6,0.4],\n",
    "    [0.2,0.8],\n",
    "    [0.3,0.7]\n",
    "])\n",
    "\n",
    "#可能的状态数和观测数\n",
    "N = 4\n",
    "M = 2\n",
    "\n",
    "#创建HMM实例\n",
    "hmm = HMM(N,M,pi,A,B)"
   ],
   "metadata": {
    "collapsed": false,
    "ExecuteTime": {
     "end_time": "2024-10-25T09:22:44.453247800Z",
     "start_time": "2024-10-25T09:22:44.446738800Z"
    }
   },
   "id": "275c4250218b5711"
  },
  {
   "cell_type": "code",
   "execution_count": 8,
   "outputs": [
    {
     "name": "stdout",
     "output_type": "stream",
     "text": [
      "序列O: [0, 0, 1, 0, 1]\n",
      "得到序列O的概率： 0.027407493749999998\n"
     ]
    }
   ],
   "source": [
    "O = hmm.generate(5)\n",
    "print('序列O:',O)\n",
    "print('得到序列O的概率：',hmm.prob_calc(O))"
   ],
   "metadata": {
    "collapsed": false,
    "ExecuteTime": {
     "end_time": "2024-10-25T09:29:21.869864500Z",
     "start_time": "2024-10-25T09:29:21.867256900Z"
    }
   },
   "id": "2461f2d9dcd372fd"
  },
  {
   "cell_type": "code",
   "execution_count": null,
   "outputs": [],
   "source": [],
   "metadata": {
    "collapsed": false
   },
   "id": "e73d368635c4f4dd"
  }
 ],
 "metadata": {
  "kernelspec": {
   "display_name": "Python 3",
   "language": "python",
   "name": "python3"
  },
  "language_info": {
   "codemirror_mode": {
    "name": "ipython",
    "version": 2
   },
   "file_extension": ".py",
   "mimetype": "text/x-python",
   "name": "python",
   "nbconvert_exporter": "python",
   "pygments_lexer": "ipython2",
   "version": "2.7.6"
  }
 },
 "nbformat": 4,
 "nbformat_minor": 5
}
